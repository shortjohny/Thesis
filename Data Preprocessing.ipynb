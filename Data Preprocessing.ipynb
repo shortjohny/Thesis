{
 "cells": [
  {
   "cell_type": "code",
   "execution_count": null,
   "id": "super-wales",
   "metadata": {},
   "outputs": [],
   "source": [
    "import numpy as np\n",
    "import matplotlib.pyplot as plt\n",
    "from scipy.io import wavfile"
   ]
  },
  {
   "cell_type": "code",
   "execution_count": null,
   "id": "subtle-outline",
   "metadata": {},
   "outputs": [],
   "source": [
    "#Visualization of the whole dataset\n",
    "for i in range(1,3000):\n",
    "    for j in ['Patra','Nikaia']:\n",
    "        try:\n",
    "            sr, mixtureR = wavfile.read('/home/myron/Desktop/Diplomatikh/data/Covid19/'+j+'_LR/'+str(i)+'_R'+'.wav')\n",
    "            sr, mixtureL = wavfile.read('/home/myron/Desktop/Diplomatikh/data/Covid19/'+j+'_LR/'+str(i)+'_L'+'.wav')\n",
    "        \n",
    "            fig, (ax1, ax2) = plt.subplots(2, 1,constrained_layout = True)\n",
    "            fig.suptitle(j+':'+str(i))\n",
    "            ax1.title.set_text('R channel')\n",
    "            ax2.title.set_text('L channel')\n",
    "            \n",
    "            ax1.plot( mixtureR)\n",
    "            ax2.plot( mixtureL)\n",
    "            plt.show()\n",
    "        except:\n",
    "            continue\n",
    "        "
   ]
  },
  {
   "cell_type": "code",
   "execution_count": null,
   "id": "reflected-elephant",
   "metadata": {},
   "outputs": [],
   "source": [
    "#Examples of noise intensity, clipping events, and bad examples\n",
    "\n",
    "sr, m1 = wavfile.read('/home/myron/Desktop/Diplomatikh/data/Covid19/'+'Patra'+'_LR/'+str(7)+'_R'+'.wav')\n",
    "sr, m2 = wavfile.read('/home/myron/Desktop/Diplomatikh/data/Covid19/'+'Patra'+'_LR/'+str(57)+'_R'+'.wav')\n",
    "sr, m3 = wavfile.read('/home/myron/Desktop/Diplomatikh/data/Covid19/'+'Nikaia'+'_LR/'+str(2461)+'_R'+'.wav')\n",
    "sr, m4 = wavfile.read('/home/myron/Desktop/Diplomatikh/data/Covid19/'+'Nikaia'+'_LR/'+str(2440)+'_R'+'.wav')\n",
    "\n",
    "sr, m5 = wavfile.read('/home/myron/Desktop/Diplomatikh/data/Covid19/'+'Nikaia'+'_LR/'+str(2443)+'_R'+'.wav')\n",
    "sr, m6 = wavfile.read('/home/myron/Desktop/Diplomatikh/data/Covid19/'+'Patra'+'_LR/'+str(64)+'_L'+'.wav')\n",
    "\n",
    "\n",
    "fig, ((ax1,ax2),(ax3,ax4)) = plt.subplots(2, 2,constrained_layout = True)\n",
    "\n",
    "ax1.title.set_text('Patra:'+str(7)+'_R')\n",
    "ax2.title.set_text('Patra:'+str(57)+'_R')\n",
    "ax3.title.set_text('Nikaia:'+str(2461)+'_R')\n",
    "ax4.title.set_text('Nikaia:'+str(2440)+'_R')\n",
    "\n",
    "ax1.plot( m1)\n",
    "ax2.plot( m2)\n",
    "ax2.set_xticks(np.arange(0, m2.shape[0], step=400000))\n",
    "ax3.plot( m3)\n",
    "ax4.plot( m4)\n",
    "plt.show()\n",
    "\n",
    "fig, (ax5,ax6)= plt.subplots(2,1,constrained_layout = True)\n",
    "\n",
    "\n",
    "ax5.title.set_text('Nikaia:'+str(2443)+'_R')\n",
    "ax6.title.set_text('Patra:'+str(64)+'_L')\n",
    "\n",
    "\n",
    "ax5.plot( m5)\n",
    "ax6.plot( m6)\n",
    "plt.show()"
   ]
  },
  {
   "cell_type": "code",
   "execution_count": null,
   "id": "designed-aluminum",
   "metadata": {},
   "outputs": [],
   "source": [
    "#Data Standardization"
   ]
  },
  {
   "cell_type": "code",
   "execution_count": null,
   "id": "leading-railway",
   "metadata": {},
   "outputs": [],
   "source": [
    "def Normalization(signal):\n",
    "    m=signal.mean()\n",
    "    st=signal.std()\n",
    "    normalized=(signal-m)/st\n",
    "    return normalized,m,st"
   ]
  },
  {
   "cell_type": "code",
   "execution_count": null,
   "id": "strong-justice",
   "metadata": {},
   "outputs": [],
   "source": [
    "#Normalization Procedure\n",
    "\n",
    "for i in range(1,3000):\n",
    "    for j in ['Patra','Nikaia']:\n",
    "        try:\n",
    "            sr, mixtureR = wavfile.read('/home/myron/Desktop/Diplomatikh/data/F_Covid19/'+j+'_LR/'+str(i)+'_R'+'.wav')\n",
    "            sr, mixtureL = wavfile.read('/home/myron/Desktop/Diplomatikh/data/F_Covid19/'+j+'_LR/'+str(i)+'_L'+'.wav')\n",
    "            s_R,mR,stR=Normalization(mixtureR)\n",
    "            s_L,mL,stL=Normalization(mixtureL)\n",
    "            \n",
    "            wavfile.write(str(i)+'_R_scaled', sr, s_R)\n",
    "            wavfile.write(str(i)+'_L_scaled', sr, s_L)\n",
    "\n",
    "        except:\n",
    "            continue\n",
    "            \n"
   ]
  }
 ],
 "metadata": {
  "kernelspec": {
   "display_name": "Python 3",
   "language": "python",
   "name": "python3"
  },
  "language_info": {
   "codemirror_mode": {
    "name": "ipython",
    "version": 3
   },
   "file_extension": ".py",
   "mimetype": "text/x-python",
   "name": "python",
   "nbconvert_exporter": "python",
   "pygments_lexer": "ipython3",
   "version": "3.8.8"
  }
 },
 "nbformat": 4,
 "nbformat_minor": 5
}
